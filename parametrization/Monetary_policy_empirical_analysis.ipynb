{
 "cells": [
  {
   "cell_type": "markdown",
   "metadata": {},
   "source": [
    "### Monetary policy for decentralized networks via empirical analysis\n",
    "\n",
    "A critical macroeconomic parameter for most decentralized networks is the initial rate at which new tokens are minted (and distributed to actively staking service-providers as a predictable subsidy/incentive) – the _genesis inflation rate_. This analysis aims to substantiate, via empirical analysis, arguments for possible inflation rates at genesis and subsequent monetary policy – by looking at public data from live networks, primarily those secured by staking/Proof-of-Stake.\n",
    "\n",
    "The goal of the protocol designer here is deceptively simple – select an initial rate that's neither too high nor too low. There are issues with both extremes:\n",
    "\n",
    "_'High' inflation rate_\n",
    "- Given a finite supply, a high initial rate implies a shorter-lived era of subsidies. This may not budget enough time for customer adoption and a corresponding transaction fee market to mature. \n",
    "- If the subsidy is too large relative to the typical value of transaction fees, then the incentive to earn fees may be blunted. This is particularly risky if the service-provider action/duty required to collect subsidies does not align well with the equivalent to earn fees, and that latter duty has a greater effect on service quality.\n",
    "- A primary purpose of subsidization is supporting the upfront and maintenance costs of service-provider operations. In the case of NuCypher and some service-layer/staking networks, these overheads are relatively low – particularly when compared to Proof-of-Work mining or networks with very punitive slashing conditions (e.g. for double-signing). Hence, a similarly high inflation rate may be overkill.\n",
    "- A generous subsidy may attract _too many_ service-providers to the network, which means that the first trickle of customers and jobs will be spread more thinly amongst them. Oversupply delays the moment where fees alone are able to sustain service-provider operations. \n",
    "- The greater the value of a subsidy, the further from a customer/fee-driven 'reality' a service-provider's economic set-up is likely to be (for example, in terms of operational efficiency), and the longer it may take for the fee market to catch up – if it catches up at all. \n",
    "- Relatedly, a overly generous subsidy may lead some service-providers to offer unsustainably low prices initially, with the intention of raising prices later once the subsidy dries up [1]. Any customers who have become reliant on the service, but are unable to afford the new higher price point, will see their business thrown into jeoapardy. This prospect will make it harder for would-be network adopters to plan an integration and justify the associated risks and cost-sinking.\n",
    "- Higher subsidies worsen the impact and/or risk of tax liabilities.  \n",
    "\n",
    "_'Low' inflation rate_\n",
    "- Given competition between networks for competent service-providers, who have finite time and resources, a low incentive may be insufficient to draw and/or maintain a requisite number, diversity or minimum competence level of service-providers. If a truly extreme version of this scenario transpires, we may see supply failing to satisfy demand. \n",
    "- A low value subsidy may lead to collective price-hiking in order to stay afloat [1], which will delay or impede adoption of the network. \n",
    "- An ungenerous subsidy may exclude smaller service-providers with less upfront resources, limiting participation to institutional/professional operators. \n",
    "\n",
    "[1] these scenarios apply in epochs where a free market (price diversity) is enabled or encouraged – i.e. no fixed, enforced, universal pricing. \n",
    "\n",
    "From these qualitative arguments, we may refine the designer's goal: to select a genesis inflation rate that is _as low as possible, without compromising the abundance of supply or the operational feasibility of service-providers_. "
   ]
  },
  {
   "cell_type": "code",
   "execution_count": 1,
   "metadata": {},
   "outputs": [],
   "source": [
    "import numpy as np\n",
    "import pandas as pd\n",
    "from matplotlib import pyplot as plt\n",
    "import seaborn as sns\n",
    "from matplotlib.pyplot import figure\n",
    "import datetime\n",
    "from scipy import stats"
   ]
  },
  {
   "cell_type": "markdown",
   "metadata": {},
   "source": [
    "Let's begin with what should be a simple exercise –  finding (1) the genesis inflation rate for prominent proof-of-stake network and (2) the performance of the native token's exchange rate with Bitcoin over the first 6 months of the network's existence. We opt for the token/BTC rate over market capitalization in an attempt to approximate the network's performance relative to the whole cryptomarket. Note that exchange rate data is sourced from Coinmarketcap (hereafter 'CMC'). "
   ]
  },
  {
   "cell_type": "code",
   "execution_count": 2,
   "metadata": {},
   "outputs": [
    {
     "ename": "FileNotFoundError",
     "evalue": "[Errno 2] File b'/Users/hassard/nucypher_repos/parametrisation/inflation_performanceBTC.csv' does not exist: b'/Users/hassard/nucypher_repos/parametrisation/inflation_performanceBTC.csv'",
     "output_type": "error",
     "traceback": [
      "\u001b[0;31m---------------------------------------------------------------------------\u001b[0m",
      "\u001b[0;31mFileNotFoundError\u001b[0m                         Traceback (most recent call last)",
      "\u001b[0;32m<ipython-input-2-700bd9841d64>\u001b[0m in \u001b[0;36m<module>\u001b[0;34m()\u001b[0m\n\u001b[0;32m----> 1\u001b[0;31m \u001b[0mdf_inf_perf\u001b[0m \u001b[0;34m=\u001b[0m \u001b[0mpd\u001b[0m\u001b[0;34m.\u001b[0m\u001b[0mread_csv\u001b[0m\u001b[0;34m(\u001b[0m\u001b[0;34mr'/Users/hassard/nucypher_repos/parametrisation/inflation_performanceBTC.csv'\u001b[0m\u001b[0;34m)\u001b[0m\u001b[0;34m\u001b[0m\u001b[0m\n\u001b[0m\u001b[1;32m      2\u001b[0m \u001b[0mdf_inf_perf\u001b[0m\u001b[0;34m\u001b[0m\u001b[0m\n",
      "\u001b[0;32m/Library/Frameworks/Python.framework/Versions/3.6/lib/python3.6/site-packages/pandas/io/parsers.py\u001b[0m in \u001b[0;36mparser_f\u001b[0;34m(filepath_or_buffer, sep, delimiter, header, names, index_col, usecols, squeeze, prefix, mangle_dupe_cols, dtype, engine, converters, true_values, false_values, skipinitialspace, skiprows, skipfooter, nrows, na_values, keep_default_na, na_filter, verbose, skip_blank_lines, parse_dates, infer_datetime_format, keep_date_col, date_parser, dayfirst, iterator, chunksize, compression, thousands, decimal, lineterminator, quotechar, quoting, doublequote, escapechar, comment, encoding, dialect, tupleize_cols, error_bad_lines, warn_bad_lines, delim_whitespace, low_memory, memory_map, float_precision)\u001b[0m\n\u001b[1;32m    700\u001b[0m                     skip_blank_lines=skip_blank_lines)\n\u001b[1;32m    701\u001b[0m \u001b[0;34m\u001b[0m\u001b[0m\n\u001b[0;32m--> 702\u001b[0;31m         \u001b[0;32mreturn\u001b[0m \u001b[0m_read\u001b[0m\u001b[0;34m(\u001b[0m\u001b[0mfilepath_or_buffer\u001b[0m\u001b[0;34m,\u001b[0m \u001b[0mkwds\u001b[0m\u001b[0;34m)\u001b[0m\u001b[0;34m\u001b[0m\u001b[0m\n\u001b[0m\u001b[1;32m    703\u001b[0m \u001b[0;34m\u001b[0m\u001b[0m\n\u001b[1;32m    704\u001b[0m     \u001b[0mparser_f\u001b[0m\u001b[0;34m.\u001b[0m\u001b[0m__name__\u001b[0m \u001b[0;34m=\u001b[0m \u001b[0mname\u001b[0m\u001b[0;34m\u001b[0m\u001b[0m\n",
      "\u001b[0;32m/Library/Frameworks/Python.framework/Versions/3.6/lib/python3.6/site-packages/pandas/io/parsers.py\u001b[0m in \u001b[0;36m_read\u001b[0;34m(filepath_or_buffer, kwds)\u001b[0m\n\u001b[1;32m    427\u001b[0m \u001b[0;34m\u001b[0m\u001b[0m\n\u001b[1;32m    428\u001b[0m     \u001b[0;31m# Create the parser.\u001b[0m\u001b[0;34m\u001b[0m\u001b[0;34m\u001b[0m\u001b[0m\n\u001b[0;32m--> 429\u001b[0;31m     \u001b[0mparser\u001b[0m \u001b[0;34m=\u001b[0m \u001b[0mTextFileReader\u001b[0m\u001b[0;34m(\u001b[0m\u001b[0mfilepath_or_buffer\u001b[0m\u001b[0;34m,\u001b[0m \u001b[0;34m**\u001b[0m\u001b[0mkwds\u001b[0m\u001b[0;34m)\u001b[0m\u001b[0;34m\u001b[0m\u001b[0m\n\u001b[0m\u001b[1;32m    430\u001b[0m \u001b[0;34m\u001b[0m\u001b[0m\n\u001b[1;32m    431\u001b[0m     \u001b[0;32mif\u001b[0m \u001b[0mchunksize\u001b[0m \u001b[0;32mor\u001b[0m \u001b[0miterator\u001b[0m\u001b[0;34m:\u001b[0m\u001b[0;34m\u001b[0m\u001b[0m\n",
      "\u001b[0;32m/Library/Frameworks/Python.framework/Versions/3.6/lib/python3.6/site-packages/pandas/io/parsers.py\u001b[0m in \u001b[0;36m__init__\u001b[0;34m(self, f, engine, **kwds)\u001b[0m\n\u001b[1;32m    893\u001b[0m             \u001b[0mself\u001b[0m\u001b[0;34m.\u001b[0m\u001b[0moptions\u001b[0m\u001b[0;34m[\u001b[0m\u001b[0;34m'has_index_names'\u001b[0m\u001b[0;34m]\u001b[0m \u001b[0;34m=\u001b[0m \u001b[0mkwds\u001b[0m\u001b[0;34m[\u001b[0m\u001b[0;34m'has_index_names'\u001b[0m\u001b[0;34m]\u001b[0m\u001b[0;34m\u001b[0m\u001b[0m\n\u001b[1;32m    894\u001b[0m \u001b[0;34m\u001b[0m\u001b[0m\n\u001b[0;32m--> 895\u001b[0;31m         \u001b[0mself\u001b[0m\u001b[0;34m.\u001b[0m\u001b[0m_make_engine\u001b[0m\u001b[0;34m(\u001b[0m\u001b[0mself\u001b[0m\u001b[0;34m.\u001b[0m\u001b[0mengine\u001b[0m\u001b[0;34m)\u001b[0m\u001b[0;34m\u001b[0m\u001b[0m\n\u001b[0m\u001b[1;32m    896\u001b[0m \u001b[0;34m\u001b[0m\u001b[0m\n\u001b[1;32m    897\u001b[0m     \u001b[0;32mdef\u001b[0m \u001b[0mclose\u001b[0m\u001b[0;34m(\u001b[0m\u001b[0mself\u001b[0m\u001b[0;34m)\u001b[0m\u001b[0;34m:\u001b[0m\u001b[0;34m\u001b[0m\u001b[0m\n",
      "\u001b[0;32m/Library/Frameworks/Python.framework/Versions/3.6/lib/python3.6/site-packages/pandas/io/parsers.py\u001b[0m in \u001b[0;36m_make_engine\u001b[0;34m(self, engine)\u001b[0m\n\u001b[1;32m   1120\u001b[0m     \u001b[0;32mdef\u001b[0m \u001b[0m_make_engine\u001b[0m\u001b[0;34m(\u001b[0m\u001b[0mself\u001b[0m\u001b[0;34m,\u001b[0m \u001b[0mengine\u001b[0m\u001b[0;34m=\u001b[0m\u001b[0;34m'c'\u001b[0m\u001b[0;34m)\u001b[0m\u001b[0;34m:\u001b[0m\u001b[0;34m\u001b[0m\u001b[0m\n\u001b[1;32m   1121\u001b[0m         \u001b[0;32mif\u001b[0m \u001b[0mengine\u001b[0m \u001b[0;34m==\u001b[0m \u001b[0;34m'c'\u001b[0m\u001b[0;34m:\u001b[0m\u001b[0;34m\u001b[0m\u001b[0m\n\u001b[0;32m-> 1122\u001b[0;31m             \u001b[0mself\u001b[0m\u001b[0;34m.\u001b[0m\u001b[0m_engine\u001b[0m \u001b[0;34m=\u001b[0m \u001b[0mCParserWrapper\u001b[0m\u001b[0;34m(\u001b[0m\u001b[0mself\u001b[0m\u001b[0;34m.\u001b[0m\u001b[0mf\u001b[0m\u001b[0;34m,\u001b[0m \u001b[0;34m**\u001b[0m\u001b[0mself\u001b[0m\u001b[0;34m.\u001b[0m\u001b[0moptions\u001b[0m\u001b[0;34m)\u001b[0m\u001b[0;34m\u001b[0m\u001b[0m\n\u001b[0m\u001b[1;32m   1123\u001b[0m         \u001b[0;32melse\u001b[0m\u001b[0;34m:\u001b[0m\u001b[0;34m\u001b[0m\u001b[0m\n\u001b[1;32m   1124\u001b[0m             \u001b[0;32mif\u001b[0m \u001b[0mengine\u001b[0m \u001b[0;34m==\u001b[0m \u001b[0;34m'python'\u001b[0m\u001b[0;34m:\u001b[0m\u001b[0;34m\u001b[0m\u001b[0m\n",
      "\u001b[0;32m/Library/Frameworks/Python.framework/Versions/3.6/lib/python3.6/site-packages/pandas/io/parsers.py\u001b[0m in \u001b[0;36m__init__\u001b[0;34m(self, src, **kwds)\u001b[0m\n\u001b[1;32m   1851\u001b[0m         \u001b[0mkwds\u001b[0m\u001b[0;34m[\u001b[0m\u001b[0;34m'usecols'\u001b[0m\u001b[0;34m]\u001b[0m \u001b[0;34m=\u001b[0m \u001b[0mself\u001b[0m\u001b[0;34m.\u001b[0m\u001b[0musecols\u001b[0m\u001b[0;34m\u001b[0m\u001b[0m\n\u001b[1;32m   1852\u001b[0m \u001b[0;34m\u001b[0m\u001b[0m\n\u001b[0;32m-> 1853\u001b[0;31m         \u001b[0mself\u001b[0m\u001b[0;34m.\u001b[0m\u001b[0m_reader\u001b[0m \u001b[0;34m=\u001b[0m \u001b[0mparsers\u001b[0m\u001b[0;34m.\u001b[0m\u001b[0mTextReader\u001b[0m\u001b[0;34m(\u001b[0m\u001b[0msrc\u001b[0m\u001b[0;34m,\u001b[0m \u001b[0;34m**\u001b[0m\u001b[0mkwds\u001b[0m\u001b[0;34m)\u001b[0m\u001b[0;34m\u001b[0m\u001b[0m\n\u001b[0m\u001b[1;32m   1854\u001b[0m         \u001b[0mself\u001b[0m\u001b[0;34m.\u001b[0m\u001b[0munnamed_cols\u001b[0m \u001b[0;34m=\u001b[0m \u001b[0mself\u001b[0m\u001b[0;34m.\u001b[0m\u001b[0m_reader\u001b[0m\u001b[0;34m.\u001b[0m\u001b[0munnamed_cols\u001b[0m\u001b[0;34m\u001b[0m\u001b[0m\n\u001b[1;32m   1855\u001b[0m \u001b[0;34m\u001b[0m\u001b[0m\n",
      "\u001b[0;32mpandas/_libs/parsers.pyx\u001b[0m in \u001b[0;36mpandas._libs.parsers.TextReader.__cinit__\u001b[0;34m()\u001b[0m\n",
      "\u001b[0;32mpandas/_libs/parsers.pyx\u001b[0m in \u001b[0;36mpandas._libs.parsers.TextReader._setup_parser_source\u001b[0;34m()\u001b[0m\n",
      "\u001b[0;31mFileNotFoundError\u001b[0m: [Errno 2] File b'/Users/hassard/nucypher_repos/parametrisation/inflation_performanceBTC.csv' does not exist: b'/Users/hassard/nucypher_repos/parametrisation/inflation_performanceBTC.csv'"
     ]
    }
   ],
   "source": [
    "df_inf_perf = pd.read_csv(r'/Users/hassard/nucypher_repos/parametrisation/inflation_performanceBTC.csv')\n",
    "df_inf_perf"
   ]
  },
  {
   "cell_type": "markdown",
   "metadata": {},
   "source": [
    "Figures are all manually sourced (links below). It is worth noting the inconsistency between networks with respect to their launch style, early inflation schedule, the manner in which rewards are earned, and when data providers began to display price data. In particular, this makes it challenging to choose a fair timeframe over which to compare the networks on their price perfomance – see notes on each network: \n",
    "\n",
    "- **Cosmos** probably had the 'cleanest' launch of the 6 networks, the arrival of mainnet and inflationary rewards coinciding with the first price data on CMC ([source](https://research.binance.com/projects/cosmos-network)). Like Livepeer, the nomimal inflation rate is linked to the staking rate, but changed very little in the first 6 months. ([source](https://figment.network/resources/cosmos-inflation-staking-rewards-how-are-they-related/)).\n",
    "- **Livepeer's** nominal inflation rate grew steadily for the first year of its existence via a protocol-based mechanism involving the staking rate. This analysis ([source](https://medium.com/vision-hill-blog/modeling-generalized-mining-from-a-funds-perspective-a-livepeer-case-study-54dedac4fdf7)) and the example figure in their whitepaper ([source](https://github.com/livepeer/wiki/blob/master/WHITEPAPER.md)) gives us a reasonable estimate of the initial inflation rate – however it is likely to have increased by the time CMC begain providing price data in December 2018, 7 months after their offical mainnet launch. \n",
    "- **Iris's** initial inflation rate and date of first reward emission is unambiguous ([source](https://medium.com/irisnet-blog/iris-foundation-announced-a-one-year-token-burning-plan-e0637ea6f977)), but the first price data on CMC does not appear for another month (in April 2019). \n",
    "- **Algorand's** mainnet announcment and first CMC price data both fall in on June 20th 2019 ([source](https://www.algorand.com/resources/blog/the-borderless-economy-is-here)). There are no easy-to-find reports of the initial inflation rate, but we can approximate it utilizing this analysis's calculation ([source](https://www.purestake.com/blog/algorand-rewards-distribution-explained/)). \n",
    "- **Synthetix** has CMC price data dating back to March 2018, but at this time it was called Havven and was ostensibly only live on an Ethereum testnet ([source](https://blog.havven.io/nusd-launches-today-e24fbe0ee9c9)). Synthetix did not introduce inflationary rewards until March 2019 ([source](https://blog.synthetix.io/monetary-policy-changes-begin-on-march-13/)). These first rewards were followed by a remarkable performance against BTC (a 201% increase over the next 6 months). It is worth noting that a respectable level of traction, and fees, had been achieved prior to any service-provider subsidization. \n",
    "- **Tezos** recovered from an acrimonious ICO to issue its first rewards approximately 3 weeks after the launch of their 'betanet', in July 2018 ([source](https://cointelegraph.com/news/controversial-tezos-project-announces-launch-of-betanet)). This corresponds with CMC's first estimate of a market capitalization – however, price data for Tezos dates all the way back to October 2nd 2017 – hence, two entries for Tezos are included in the table. The initial inflation rate is generally agreed upon ([source](https://medium.com/cryptium/did-they-pull-the-5-51-out-of-their-oven-understanding-inflation-in-the-tezos-protocol-13493829a533)). "
   ]
  },
  {
   "cell_type": "code",
   "execution_count": null,
   "metadata": {},
   "outputs": [],
   "source": [
    "for network in df_inf_perf.index: \n",
    "    x = df_inf_perf['Early_InflationRate'][network]\n",
    "    y = df_inf_perf['Change_BTCRate'][network]\n",
    "    plt.scatter(x, y, label = df_inf_perf['Network'][network])\n",
    "plt.xlabel(\"Early inflation rate\")\n",
    "plt.ylabel(\"6 months performance vs. BTC\")\n",
    "plt.rcParams[\"figure.figsize\"] = (10,10)\n",
    "plt.legend(loc=1)\n",
    "plt.show()"
   ]
  },
  {
   "cell_type": "markdown",
   "metadata": {},
   "source": [
    "Given the inconsistencies between networks detailed above, it is unwise to draw firm conclusions at this point. However, we note that:\n",
    "- All the major proof-of-stake networks depreciated in value against BTC in the first 6 months of their existence. The native tokens of Cosmos and Iris lost over 80 and 90% of their value, respectively. \n",
    "- There is no strong correlation between the early inflation rate and subsequent price performance, positive or negative. Obviously, there are many other factors affecting the performance other than the genesis inflation rate."
   ]
  },
  {
   "cell_type": "markdown",
   "metadata": {},
   "source": [
    "We clearly need richer datasets, that provide other signals of 'success' other than price performance. The following timeseries datasets are courtesy of Staked's Yields API and Coinmarketcap. The most complete datasets are for three staking networks: _Tezos_, _Cosmos_, and _Livepeer_, and two older Proof-of-Work networks: _Horizen_ (formerly ZenCash) and _Dash_. "
   ]
  },
  {
   "cell_type": "code",
   "execution_count": null,
   "metadata": {},
   "outputs": [],
   "source": [
    "df_tezos = pd.read_csv(r'/Users/hassard/nucypher_repos/parametrisation/df_tezos.csv')\n",
    "df_cosmos = pd.read_csv(r'/Users/hassard/nucypher_repos/parametrisation/df_cosmos.csv')\n",
    "df_livepeer = pd.read_csv(r'/Users/hassard/nucypher_repos/parametrisation/df_livepeer.csv')\n",
    "df_horizen = pd.read_csv(r'/Users/hassard/nucypher_repos/parametrisation/df_horizen.csv')\n",
    "df_dash = pd.read_csv(r'/Users/hassard/nucypher_repos/parametrisation/df_dash.csv')\n",
    "\n",
    "df_livepeer.head() #inspect columns"
   ]
  },
  {
   "cell_type": "code",
   "execution_count": null,
   "metadata": {},
   "outputs": [],
   "source": [
    "df_cosmos.describe()"
   ]
  },
  {
   "cell_type": "markdown",
   "metadata": {},
   "source": [
    "Key column definitions: \n",
    "\n",
    "**inflation** is the nominal inflation rate – the annual rate at which new tokens are minted and distributed, relative to the supply. This is the main parameter that the protocol designer can tune. \n",
    "\n",
    "**yield** is the percentage a service-provider hypothetically gains annually on their stake, given a certain staking rate. This relationship is tested below. \n",
    "\n",
    "**staking_rate** is the percentage of tokens staked (implying a committment to the duties of a service-provider and/or delegation to a service-provider), of the total supply, on a given day. Also known as the 'participation rate' or 'staking ratio' elsewhere.\n",
    "\n",
    "**real_yield** is the actual annual gain made by actively staking service-providers, taking into account the fact that stakers are also diluted by changes to the circulating supply (just less so than non-stakers/'hodlers'). This is calculated as follows: \n",
    "\n",
    "$$ RealYield = \\frac{(1 + Yield)}{(1 + Inflation)}- 1 $$\n",
    "\n",
    "where 'Inflation' here incorporates other changes to the circulating supply besides the predictable minting of tokens through a reward schedule – for example, the release of locked tokens held by foundations.\n",
    "\n",
    "Note that **open**, **high**, **low**, **close**, **volume**, and  **market_cap** columns are sourced from Coinmarketcap, and the rest from the Staked Yields API. \n",
    "\n",
    "Warning: some network statistics (such as yield) are NOT universally agreed, however these estimates have been calculated by a professional staking operation that currently stakes in all the networks in question, and hence reflects *an* authentic economic reality, if not *the* economic reality. "
   ]
  },
  {
   "cell_type": "code",
   "execution_count": null,
   "metadata": {},
   "outputs": [],
   "source": [
    "pos = {}\n",
    "pos['cosmos'] = df_cosmos\n",
    "pos['livepeer'] = df_livepeer\n",
    "pos['tezos'] = df_tezos\n",
    "pos['horizen'] = df_horizen\n",
    "pos['dash'] = df_dash\n",
    "\n",
    "for net in pos: # check how far back each dataset goes from Jan 20th 2020, in days\n",
    "    print(len(pos[net]), net)"
   ]
  },
  {
   "cell_type": "markdown",
   "metadata": {},
   "source": [
    "To check we understand the system dynamics and the extent to which these dynamics are common to the networks, let's establish that the staking rate is correlated with the yield. "
   ]
  },
  {
   "cell_type": "code",
   "execution_count": null,
   "metadata": {},
   "outputs": [],
   "source": [
    "for net in pos: \n",
    "    x = pos[net]['staking_rate']\n",
    "    y = pos[net]['yield']\n",
    "    plt.scatter(x,y, label=net, alpha = 0.5)\n",
    "plt.xlabel(\"Staking Rate, measured daily\")\n",
    "plt.ylabel(\"Annual Yield, measured daily\")\n",
    "plt.rcParams[\"figure.figsize\"] = (20,15)\n",
    "plt.grid(b=True, which='major', color='#999999', linestyle='-')\n",
    "plt.minorticks_on()\n",
    "plt.grid(b=True, which='minor', color='#999999', linestyle='-', alpha=0.2)\n",
    "plt.legend(loc=4)\n",
    "plt.show()"
   ]
  },
  {
   "cell_type": "code",
   "execution_count": null,
   "metadata": {},
   "outputs": [],
   "source": [
    "# Remove _Livepeer_ and _Horizen_ to see the other networks more clearly. \n",
    "del pos['livepeer']\n",
    "del pos['horizen']"
   ]
  },
  {
   "cell_type": "code",
   "execution_count": null,
   "metadata": {},
   "outputs": [],
   "source": [
    "for net in pos: \n",
    "    x = pos[net]['staking_rate']\n",
    "    y = pos[net]['yield']\n",
    "    plt.scatter(x,y, label=net, alpha = 0.5)\n",
    "plt.xlabel(\"Staking Rate, measured daily\")\n",
    "plt.ylabel(\"Annual Yield, measured daily\")\n",
    "plt.rcParams[\"figure.figsize\"] = (20,15)\n",
    "plt.grid(b=True, which='major', color='#999999', linestyle='-')\n",
    "plt.minorticks_on()\n",
    "plt.grid(b=True, which='minor', color='#999999', linestyle='-', alpha=0.2)\n",
    "plt.legend(loc=4)\n",
    "plt.show()"
   ]
  },
  {
   "cell_type": "markdown",
   "metadata": {},
   "source": [
    "Although there is some noise, we can clearly see that on a day-by-day basis, when the staking rate increases, the yield decreases, for all the networks under examination. This is logical, since the greater the percentage of stakers/stake there is, the more thinly spread their rewards will be, all things equal. Although the nominal inflation rate does affect the linearity of this relationship, even Livepeer – which had the greatest change in inflation over the timeframe in question – demonstrates a similar, if curved, relationship between staking rate and yield.  \n",
    "\n",
    "To-do: prove this correlation has a low p-value. \n",
    "\n",
    "The previous two graphs show that the staking rate impacts the yield, which we know is proportional to the **real yield** (see equation above). Let's flip this around and investigate if the real yield impacts the staking rate. In other words, test the hypothesis that the actual earnings by individual service-providers affects their decision to continue to stake. More specifically, that the mean real yield in one weekly (7-day) period impacts the staking rate in the following week. \n",
    "\n",
    "Remember our goal, stated above, is to find the _lowest possible inflation rate that does not compromise the abundance of supply or the operational feasibility of service-providers_. An indicator for both these compromises is the staking rate, from which we may learn the conditions that lead to it changing (particularly if it drops precipitously). "
   ]
  },
  {
   "cell_type": "code",
   "execution_count": null,
   "metadata": {},
   "outputs": [],
   "source": [
    "# Hypothesis: the weekly real yield had an impact on next week's decision to stake\n",
    "# We'll start with the Cosmos dataset then look at the other 4 networks\n",
    "\n",
    "# Generate 7 day mean values for Cosmos's real yield: 24 weeks worth of data\n",
    "cosmos_ry_weekly = df_cosmos['real_yield'].groupby(np.arange(len(df_cosmos))//7).mean()\n",
    "# Ditto for the staking rate\n",
    "cosmos_sr_weekly = df_cosmos['staking_rate'].groupby(np.arange(len(df_cosmos))//7).mean()\n",
    "cosmos_c_weekly = df_cosmos['close'].groupby(np.arange(len(df_cosmos))//7).mean()\n",
    "# Remove NaNs\n",
    "cosmos_ry_weekly = cosmos_ry_weekly.loc[0:24]\n",
    "cosmos_sr_weekly = cosmos_sr_weekly.loc[0:24]\n",
    "cosmos_c_weekly = cosmos_c_weekly.loc[0:24]\n",
    "# Reverse so bottom row is most recent week\n",
    "cosmos_ry_weekly = cosmos_ry_weekly.iloc[::-1]\n",
    "cosmos_sr_weekly = cosmos_sr_weekly.iloc[::-1]\n",
    "cosmos_c_weekly = cosmos_c_weekly.iloc[::-1]"
   ]
  },
  {
   "cell_type": "code",
   "execution_count": null,
   "metadata": {},
   "outputs": [],
   "source": [
    "# Concatenate the series into a dataframe and shift staking_rate down\n",
    "df_cosmos_rysr = pd.concat([cosmos_ry_weekly, cosmos_sr_weekly, cosmos_c_weekly], axis=1)\n",
    "df_cosmos_rysr['real_yield'] = df_cosmos_rysr['real_yield'].shift(1)\n",
    "df_cosmos_rysr['close'] = df_cosmos_rysr['close'].shift(1)\n",
    "\n",
    "# Add Week Number columns for clarity\n",
    "df_cosmos_rysr.insert(0, 'Week #, real_yield & close', np.arange(0, 25, 1))\n",
    "df_cosmos_rysr.insert(2, 'Week #, staking_rate', np.arange (1, 26, 1))\n",
    "\n",
    "\n",
    "# We now have a dataframe with columns out-of-sync by one week \n",
    "# – i.e. the second row (index 23) contains the real yield in week ONE, \n",
    "# and the staking rate in week TWO\n",
    "\n",
    "# Compute week-on-week percentage change\n",
    "df_cosmos_rysr['real_yield_%change'] = df_cosmos_rysr['real_yield'].pct_change()\n",
    "df_cosmos_rysr['staking_rate_%change'] = df_cosmos_rysr['staking_rate'].pct_change()\n",
    "df_cosmos_rysr['close_%change'] = df_cosmos_rysr['close'].pct_change()\n",
    "\n",
    "df_cosmos_rysr"
   ]
  },
  {
   "cell_type": "code",
   "execution_count": null,
   "metadata": {},
   "outputs": [],
   "source": [
    "# Remove outliers\n",
    "# df_cosmos_rysr[(np.abs(stats.zscore(df_cosmos_rysr)) < 3).all(axis=1)]\n",
    "\n",
    "# Plot the percentage changes for real yield (week 1 -> week 2) and subsequent staking rate (week 2 -> week 3)\n",
    "x = df_cosmos_rysr['real_yield_%change']\n",
    "y = df_cosmos_rysr['staking_rate_%change']\n",
    "plt.xlabel(\"Real Yield, first week mean – % change from previous week\")\n",
    "plt.ylabel(\"Staking Rate, next week mean - % change from previous week\")\n",
    "plt.rcParams[\"figure.figsize\"] = (10,10)\n",
    "plt.grid(b=True, which='major', color='#999999', linestyle='-')\n",
    "plt.minorticks_on()\n",
    "plt.grid(b=True, which='minor', color='#999999', linestyle='-', alpha=0.7)\n",
    "plt.scatter(x,y)\n",
    "plt.show()"
   ]
  },
  {
   "cell_type": "markdown",
   "metadata": {},
   "source": [
    "Throughout the 25 weeks, the real yield is very, very low – about 2% per year – less than one might expect in exchange for the efforts, risks and costs of staking. It also decreases week-on-week in 15 of the 23 weeks. Despite these facts, the staking rate increases for 15 of 24 week-to-weeks. Assuming stakers considered reducing or increasing their stake at least every 7 days, this data suggests that neither the actual inbound earnings nor the prospect of improved earnings in the short-term (based on an observable trend), dampened their commitment to the Cosmos network. \n",
    "\n",
    "The mean weekly close price is included to give us a sense of the fiat value of the real yield. An observable upward trend in the ATOM/USD rate may also have brightened the prospects of future earnings – however, while Cosmos's native token did appreciate by 15% against the dollar over the total timeframe, in the same 24 week period the real yield dropped a staggering 97%. \n",
    "\n",
    "To-do: Add a column to see the 'take-home earnings' (weekly inflation rate), denominated in USD."
   ]
  },
  {
   "cell_type": "code",
   "execution_count": null,
   "metadata": {},
   "outputs": [],
   "source": [
    "pos['livepeer'] = df_livepeer\n",
    "pos['horizen'] = df_horizen"
   ]
  },
  {
   "cell_type": "code",
   "execution_count": null,
   "metadata": {},
   "outputs": [],
   "source": [
    "# Repeat exercise for all 5 networks\n",
    "\n",
    "rysr_dict = {}\n",
    "\n",
    "for net in pos:\n",
    "    ry_weekly = pos[net]['real_yield'].groupby(np.arange(len(pos[net]))//7).mean()\n",
    "    sr_weekly = pos[net]['staking_rate'].groupby(np.arange(len(pos[net]))//7).mean()\n",
    "\n",
    "    ry_weekly = ry_weekly.iloc[::-1]\n",
    "    sr_weekly = sr_weekly.iloc[::-1]\n",
    "    \n",
    "    df_rysr = pd.concat([ry_weekly, sr_weekly], axis=1)\n",
    "    df_rysr['real_yield'] = df_rysr['real_yield'].shift(1)\n",
    "    \n",
    "    df_rysr['real_yield_%change'] = df_rysr['real_yield'].pct_change()\n",
    "    df_rysr['staking_rate_%change'] = df_rysr['staking_rate'].pct_change()\n",
    "\n",
    "    rysr_dict[net] = df_rysr"
   ]
  },
  {
   "cell_type": "code",
   "execution_count": null,
   "metadata": {},
   "outputs": [],
   "source": [
    "# To see other networks more clearly\n",
    "del rysr_dict['cosmos']"
   ]
  },
  {
   "cell_type": "code",
   "execution_count": null,
   "metadata": {},
   "outputs": [],
   "source": [
    "# Plot week-on-week percentage changes for real yield vs. next week's staking rate\n",
    "\n",
    "for net in rysr_dict:\n",
    "    x = rysr_dict[net]['real_yield_%change']\n",
    "    y = rysr_dict[net]['staking_rate_%change']\n",
    "    plt.scatter(x,y, label=net, alpha = 0.8)\n",
    "plt.xlabel(\"Real Yield, first week mean – % change from previous week\")\n",
    "plt.ylabel(\"Staking Rate, next week mean – % change from previous week\")\n",
    "plt.rcParams[\"figure.figsize\"] = (10,10)\n",
    "plt.grid(b=True, which='major', color='#999999', linestyle='-')\n",
    "plt.minorticks_on()\n",
    "plt.grid(b=True, which='minor', color='#999999', linestyle='-', alpha=0.7)\n",
    "plt.legend(loc=1)\n",
    "plt.show()"
   ]
  },
  {
   "cell_type": "markdown",
   "metadata": {},
   "source": [
    "Before interpreting this graph, a reminder that changes to the real yield do not have any direct, programmatic, or rules-based effect on the staking rate (unlike the reverse). The collective decision-making of all stakers determines the staking rate – i.e. every week, stakers (proactively or passively) choose to leave their stake untouched, stake more, re-stake or withdraw some or all of their stake. This exercise attempts to illuminate the extent to which this decision is affected by the change in real yield from the previous week to the current week.\n",
    "\n",
    "By rough inspection:\n",
    "- Taking all the networks' data together, we see a weak negative correlation. \n",
    "- The only network with a semblance of a positive correlation is Dash, which may be explained by the fact it is a much older network. \n",
    "- Livepeer's real yield decreased almost every week, followed by an equally consistent increase in staking rate.\n",
    "- Horizen has the most variance in the polarity and amplitude of real yield changes, mirrored by its staking rate changes. \n",
    "\n",
    "(Big) caveats: \n",
    "- It may be that this impact of repeatedly low or decreasing real yield on staker decision-making occurs with a larger time delay than one week. \n",
    "- As mentioned above, changes to the token's native value (especially growth) may explain the strong loyalty.\n",
    "- The rules around withdrawing rewards vary network to network. Commitment trends may be partially explained by strong incentives to 're-stake' rewards rather than withdraw, which, assuming this means a greater proportion of stakers are making a fiat loss and plan to hang around for the long term, makes changes to the real yield less important in the short term. \n",
    "\n",
    "Weak conclusions, so far:\n",
    "- We have not found any evidence that low inflation, yield or real yield has a damaging effect on staker commitment to the network – i.e. the abundance of supply. \n",
    "- The notion that 'stakers can only be counted on for a reliable service if they're well compensated' also seems to be false, given that none of the networks in question have experienced a shortfall of service-providers, nor any trends in that direction despite low or decreasing compensation. \n",
    "\n",
    "To-do: Further analysis of this relationship (linear regression, moving average with daily data). \n"
   ]
  },
  {
   "cell_type": "code",
   "execution_count": null,
   "metadata": {},
   "outputs": [],
   "source": [
    "# Taking a cursory glance at the correlation between important staking network statistics. \n",
    "\n",
    "# Cosmos\n",
    "df_cosmos_impt = df_cosmos[['real_yield','inflation','yield', 'staking_rate','close', 'volume']]\n",
    "cosmos_corr = df_cosmos_impt.corr()\n",
    "plt.title('Cosmos')\n",
    "sns.heatmap(cosmos_corr, annot = True, cmap = 'coolwarm')\n",
    "plt.yticks(rotation = 0)"
   ]
  },
  {
   "cell_type": "code",
   "execution_count": null,
   "metadata": {},
   "outputs": [],
   "source": [
    "# Tezos\n",
    "df_tezos_impt = df_tezos[['real_yield','inflation','yield', 'staking_rate','close', 'volume']]\n",
    "tezos_corr = df_tezos_impt.corr()\n",
    "sns.heatmap(tezos_corr, annot = True, cmap = 'coolwarm')\n",
    "plt.title('Tezos')\n",
    "plt.yticks(rotation = 0)"
   ]
  },
  {
   "cell_type": "code",
   "execution_count": null,
   "metadata": {},
   "outputs": [],
   "source": [
    "# Livepeer\n",
    "df_livepeer_impt = df_livepeer[['real_yield','inflation','yield', 'staking_rate','close', 'volume']]\n",
    "livepeer_corr = df_livepeer_impt.corr()\n",
    "plt.title('Livepeer')\n",
    "sns.heatmap(livepeer_corr, annot = True, cmap = 'coolwarm')\n",
    "plt.yticks(rotation = 0)"
   ]
  },
  {
   "cell_type": "markdown",
   "metadata": {},
   "source": [
    "Notable correlations (besides what we've already established):\n",
    "- As expected, the inflation and staking rate are positively correlated for Cosmos and Livepeer, but not Tezos. The latter does not have a protocol mechanism which links these two variables. \n",
    "- There is a mildly positive relationship between the staking rate and close price for Cosmos and Tezos. Since a higher staking rate can be interpreted as a healthy, well-populated supply, this might be a (simple) reason to have greater confidence in the future of the network. However, Livepeer shows a strong negative correlation between these variables. Relatedly, Livepeer's closing price is very strongly correlated to the inflation, yield and real yield. This is not easily explainable and needs further investigaton. \n",
    "- The volume is weakly correlated with all other variables for all the networks. The only exception is Tezos's volume, which is positively correlated with the staking rate. This is a little surprising because one could argue that the greater the percentage of tokens locked, the fewer tokens are freely tradeable.\n",
    "- The almost perfect correlation between the real yield and yield suggests that dilution caused by factors other than 'official' inflationary rewards are nearly negligible over this timeframe. \n",
    "\n",
    "Problems:\n",
    "- It appears that the data is non-stationary – i.e it has some time dependent structure which can make correlations between variables misleading. In the case of historical network statistics (our datasets), it is cerainly conceivable that long-term, external macro trends may be affecting the observable trends – for example, an irrational enthusiasm and loyalty towards decentralized projects that causes both the staking rate and close price to both rise together - and mislead us into thinking one is causing the other. Another time-dependent structure is seasonality – however, on the face of it, this is less likely to be true for staker/cryptomarket behavior. \n",
    "- This method evaluates daily data against data from the same day. If a change in one variable does indeed cause a change in another, this may occur with a lag of (as yet) unknown duration. "
   ]
  },
  {
   "cell_type": "code",
   "execution_count": null,
   "metadata": {},
   "outputs": [],
   "source": [
    "#Augmented Dickey-Fuller test for trend stationarity\n",
    "from statsmodels.tsa.stattools import adfuller\n",
    "\n",
    "# If the timeseries has a time dependent structure, then it is 'non-stationary'\n",
    "# Our null hypothesis (NH) is that the timeseries has a unit root (i.e. it's non-stationary)\n",
    "# If we fail to reject the NH, then the timeseries data is not very useful as-is\n",
    "# We can fully reject the NH if the p-value <= 0.05 \n",
    "# AND test stat <= critical values (5% confidence interval)\n",
    "\n",
    "def adftest(network_stat):\n",
    "    adf = adfuller(network_stat)\n",
    "    output = pd.Series(adf[0:2], index=['test_statistic','p_value'])\n",
    "    for key,value in adf[4].items():\n",
    "        output['critical_value (%s)'%key] = value\n",
    "    print(output)\n",
    "    if output['test_statistic'] <= output['critical_value (5%)'] and output['p_value'] <= 0.05:\n",
    "        print('Result: Reject Null Hypothesis')\n",
    "    else:\n",
    "        print('Result: Accept Null Hypothesis')"
   ]
  },
  {
   "cell_type": "code",
   "execution_count": null,
   "metadata": {},
   "outputs": [],
   "source": [
    "# temporarily avoid running into error: exog contains infs or nans with Cosmos & Dash\n",
    "del pos['cosmos']\n",
    "del pos['dash']\n",
    "#for net in pos:\n",
    " #   pos[net].replace([np.inf, -np.inf], np.nan)\n",
    " #   pos[net].dropna()"
   ]
  },
  {
   "cell_type": "code",
   "execution_count": null,
   "metadata": {},
   "outputs": [],
   "source": [
    "for net in pos:\n",
    "    print(net)\n",
    "    print('Real Yield')\n",
    "    adftest(pos[net]['real_yield'])\n",
    "    print(' ')\n",
    "    print('Staking Rate')\n",
    "    adftest(pos[net]['staking_rate'])\n",
    "    print(' ')\n",
    "    print('Closing Price')\n",
    "    adftest(pos[net]['close'])\n",
    "    print(' ')\n",
    "    print(' ')"
   ]
  },
  {
   "cell_type": "markdown",
   "metadata": {},
   "source": [
    "Of all the important network statistics, only the closing price of Horizen's token is stationary, according to the ADF test.\n",
    "\n",
    "To-dos: \n",
    "- Other tests for stationarity (KPSS)\n",
    "- Diferencing in order to increase stationarity\n",
    "- Multivariate ARIMA or autoregressive distributed lag"
   ]
  },
  {
   "cell_type": "markdown",
   "metadata": {},
   "source": [
    "#### Notes / in-progress"
   ]
  },
  {
   "cell_type": "code",
   "execution_count": null,
   "metadata": {},
   "outputs": [],
   "source": [
    "#KPSS test for trend stationarity\n",
    "from statsmodels.tsa.stattools import kpss\n",
    "\n",
    "# null hypothesis (NH) is that the data is stationary around a constant \n",
    "# rejection of NH (meaning series is non-stationary) is if critical value (1%) >\n",
    "\n",
    "def kpss_constant(network_stat):\n",
    "    kpsstest = kpss(network_stat, regression='c')\n",
    "    output = pd.Series(kpsstest[0:3], index=['test_statistic','p_value','lags-used'])\n",
    "    for key,value in kpsstest[3].items():\n",
    "        output['critical_value (%s)'%key] = value \n",
    "    print(output)\n",
    "    \n",
    "def kpss_trend(network_stat):\n",
    "    kpsstest = kpss(network_stat, regression='ct')\n",
    "    output = pd.Series(kpsstest[0:3], index=['test_statistic','p_value','lags-used'])\n",
    "    for key,value in kpsstest[3].items():\n",
    "        output['critical_value (%s)'%key] = value\n",
    "    print(output)"
   ]
  },
  {
   "cell_type": "code",
   "execution_count": null,
   "metadata": {},
   "outputs": [],
   "source": [
    "#sns.set(style=\"ticks\", color_codes=True)\n",
    "#cosmos = sns.load_dataset(df_cosmos_impt)\n",
    "#g = sns.pairplot(cosmos)#\n",
    "# plt.show()"
   ]
  },
  {
   "cell_type": "code",
   "execution_count": null,
   "metadata": {},
   "outputs": [],
   "source": [
    "#log transform for easier inspection \n",
    "\n",
    "plt.plot(df_tezos['staking_rate'].pct_change().fillna(0))\n",
    "plt.plot(df_tezos['close'].pct_change().fillna(0))\n",
    "plt.legend()\n",
    "plt.show()"
   ]
  }
 ],
 "metadata": {
  "kernelspec": {
   "display_name": "Python 3",
   "language": "python",
   "name": "python3"
  },
  "language_info": {
   "codemirror_mode": {
    "name": "ipython",
    "version": 3
   },
   "file_extension": ".py",
   "mimetype": "text/x-python",
   "name": "python",
   "nbconvert_exporter": "python",
   "pygments_lexer": "ipython3",
   "version": "3.6.4"
  }
 },
 "nbformat": 4,
 "nbformat_minor": 2
}
